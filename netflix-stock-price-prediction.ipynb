{
 "cells": [
  {
   "cell_type": "markdown",
   "id": "67a977d1",
   "metadata": {
    "papermill": {
     "duration": 0.007502,
     "end_time": "2023-04-09T19:11:31.587914",
     "exception": false,
     "start_time": "2023-04-09T19:11:31.580412",
     "status": "completed"
    },
    "tags": []
   },
   "source": [
    "# Import Libraries"
   ]
  },
  {
   "cell_type": "code",
   "execution_count": 1,
   "id": "4ebf009e",
   "metadata": {
    "_cell_guid": "b1076dfc-b9ad-4769-8c92-a6c4dae69d19",
    "_uuid": "8f2839f25d086af736a60e9eeb907d3b93b6e0e5",
    "execution": {
     "iopub.execute_input": "2023-04-09T19:11:31.603150Z",
     "iopub.status.busy": "2023-04-09T19:11:31.602597Z",
     "iopub.status.idle": "2023-04-09T19:11:32.704455Z",
     "shell.execute_reply": "2023-04-09T19:11:32.703049Z"
    },
    "papermill": {
     "duration": 1.112685,
     "end_time": "2023-04-09T19:11:32.707124",
     "exception": false,
     "start_time": "2023-04-09T19:11:31.594439",
     "status": "completed"
    },
    "tags": []
   },
   "outputs": [
    {
     "name": "stdout",
     "output_type": "stream",
     "text": [
      "/kaggle/input/netflix-stock-price-prediction/NFLX.csv\n"
     ]
    }
   ],
   "source": [
    "import numpy as np\n",
    "import pandas as pd\n",
    "import matplotlib.pyplot as plt\n",
    "from sklearn.model_selection import train_test_split\n",
    "from sklearn.linear_model import LinearRegression\n",
    "from sklearn.metrics import mean_squared_error, r2_score\n",
    "\n",
    "import os\n",
    "for dirname, _, filenames in os.walk('/kaggle/input'):\n",
    "    for filename in filenames:\n",
    "        print(os.path.join(dirname, filename))\n",
    "\n",
    "import warnings\n",
    "warnings.filterwarnings('ignore')"
   ]
  },
  {
   "cell_type": "markdown",
   "id": "31f30062",
   "metadata": {
    "papermill": {
     "duration": 0.006008,
     "end_time": "2023-04-09T19:11:32.719647",
     "exception": false,
     "start_time": "2023-04-09T19:11:32.713639",
     "status": "completed"
    },
    "tags": []
   },
   "source": [
    "# Data Loading"
   ]
  },
  {
   "cell_type": "code",
   "execution_count": 2,
   "id": "483a48c3",
   "metadata": {
    "execution": {
     "iopub.execute_input": "2023-04-09T19:11:32.734592Z",
     "iopub.status.busy": "2023-04-09T19:11:32.733894Z",
     "iopub.status.idle": "2023-04-09T19:11:32.750534Z",
     "shell.execute_reply": "2023-04-09T19:11:32.749584Z"
    },
    "papermill": {
     "duration": 0.026971,
     "end_time": "2023-04-09T19:11:32.753121",
     "exception": false,
     "start_time": "2023-04-09T19:11:32.726150",
     "status": "completed"
    },
    "tags": []
   },
   "outputs": [],
   "source": [
    "df = pd.read_csv(\"/kaggle/input/netflix-stock-price-prediction/NFLX.csv\")"
   ]
  },
  {
   "cell_type": "code",
   "execution_count": 3,
   "id": "8dd49cc8",
   "metadata": {
    "execution": {
     "iopub.execute_input": "2023-04-09T19:11:32.768224Z",
     "iopub.status.busy": "2023-04-09T19:11:32.767578Z",
     "iopub.status.idle": "2023-04-09T19:11:32.797692Z",
     "shell.execute_reply": "2023-04-09T19:11:32.796344Z"
    },
    "papermill": {
     "duration": 0.040958,
     "end_time": "2023-04-09T19:11:32.800438",
     "exception": false,
     "start_time": "2023-04-09T19:11:32.759480",
     "status": "completed"
    },
    "tags": []
   },
   "outputs": [
    {
     "data": {
      "text/html": [
       "<div>\n",
       "<style scoped>\n",
       "    .dataframe tbody tr th:only-of-type {\n",
       "        vertical-align: middle;\n",
       "    }\n",
       "\n",
       "    .dataframe tbody tr th {\n",
       "        vertical-align: top;\n",
       "    }\n",
       "\n",
       "    .dataframe thead th {\n",
       "        text-align: right;\n",
       "    }\n",
       "</style>\n",
       "<table border=\"1\" class=\"dataframe\">\n",
       "  <thead>\n",
       "    <tr style=\"text-align: right;\">\n",
       "      <th></th>\n",
       "      <th>Date</th>\n",
       "      <th>Open</th>\n",
       "      <th>High</th>\n",
       "      <th>Low</th>\n",
       "      <th>Close</th>\n",
       "      <th>Adj Close</th>\n",
       "      <th>Volume</th>\n",
       "    </tr>\n",
       "  </thead>\n",
       "  <tbody>\n",
       "    <tr>\n",
       "      <th>0</th>\n",
       "      <td>2018-02-05</td>\n",
       "      <td>262.000000</td>\n",
       "      <td>267.899994</td>\n",
       "      <td>250.029999</td>\n",
       "      <td>254.259995</td>\n",
       "      <td>254.259995</td>\n",
       "      <td>11896100</td>\n",
       "    </tr>\n",
       "    <tr>\n",
       "      <th>1</th>\n",
       "      <td>2018-02-06</td>\n",
       "      <td>247.699997</td>\n",
       "      <td>266.700012</td>\n",
       "      <td>245.000000</td>\n",
       "      <td>265.720001</td>\n",
       "      <td>265.720001</td>\n",
       "      <td>12595800</td>\n",
       "    </tr>\n",
       "    <tr>\n",
       "      <th>2</th>\n",
       "      <td>2018-02-07</td>\n",
       "      <td>266.579987</td>\n",
       "      <td>272.450012</td>\n",
       "      <td>264.329987</td>\n",
       "      <td>264.559998</td>\n",
       "      <td>264.559998</td>\n",
       "      <td>8981500</td>\n",
       "    </tr>\n",
       "    <tr>\n",
       "      <th>3</th>\n",
       "      <td>2018-02-08</td>\n",
       "      <td>267.079987</td>\n",
       "      <td>267.619995</td>\n",
       "      <td>250.000000</td>\n",
       "      <td>250.100006</td>\n",
       "      <td>250.100006</td>\n",
       "      <td>9306700</td>\n",
       "    </tr>\n",
       "    <tr>\n",
       "      <th>4</th>\n",
       "      <td>2018-02-09</td>\n",
       "      <td>253.850006</td>\n",
       "      <td>255.800003</td>\n",
       "      <td>236.110001</td>\n",
       "      <td>249.470001</td>\n",
       "      <td>249.470001</td>\n",
       "      <td>16906900</td>\n",
       "    </tr>\n",
       "    <tr>\n",
       "      <th>5</th>\n",
       "      <td>2018-02-12</td>\n",
       "      <td>252.139999</td>\n",
       "      <td>259.149994</td>\n",
       "      <td>249.000000</td>\n",
       "      <td>257.950012</td>\n",
       "      <td>257.950012</td>\n",
       "      <td>8534900</td>\n",
       "    </tr>\n",
       "    <tr>\n",
       "      <th>6</th>\n",
       "      <td>2018-02-13</td>\n",
       "      <td>257.290009</td>\n",
       "      <td>261.410004</td>\n",
       "      <td>254.699997</td>\n",
       "      <td>258.269989</td>\n",
       "      <td>258.269989</td>\n",
       "      <td>6855200</td>\n",
       "    </tr>\n",
       "    <tr>\n",
       "      <th>7</th>\n",
       "      <td>2018-02-14</td>\n",
       "      <td>260.470001</td>\n",
       "      <td>269.880005</td>\n",
       "      <td>260.329987</td>\n",
       "      <td>266.000000</td>\n",
       "      <td>266.000000</td>\n",
       "      <td>10972000</td>\n",
       "    </tr>\n",
       "    <tr>\n",
       "      <th>8</th>\n",
       "      <td>2018-02-15</td>\n",
       "      <td>270.029999</td>\n",
       "      <td>280.500000</td>\n",
       "      <td>267.630005</td>\n",
       "      <td>280.269989</td>\n",
       "      <td>280.269989</td>\n",
       "      <td>10759700</td>\n",
       "    </tr>\n",
       "    <tr>\n",
       "      <th>9</th>\n",
       "      <td>2018-02-16</td>\n",
       "      <td>278.730011</td>\n",
       "      <td>281.959991</td>\n",
       "      <td>275.690002</td>\n",
       "      <td>278.519989</td>\n",
       "      <td>278.519989</td>\n",
       "      <td>8312400</td>\n",
       "    </tr>\n",
       "  </tbody>\n",
       "</table>\n",
       "</div>"
      ],
      "text/plain": [
       "         Date        Open        High         Low       Close   Adj Close  \\\n",
       "0  2018-02-05  262.000000  267.899994  250.029999  254.259995  254.259995   \n",
       "1  2018-02-06  247.699997  266.700012  245.000000  265.720001  265.720001   \n",
       "2  2018-02-07  266.579987  272.450012  264.329987  264.559998  264.559998   \n",
       "3  2018-02-08  267.079987  267.619995  250.000000  250.100006  250.100006   \n",
       "4  2018-02-09  253.850006  255.800003  236.110001  249.470001  249.470001   \n",
       "5  2018-02-12  252.139999  259.149994  249.000000  257.950012  257.950012   \n",
       "6  2018-02-13  257.290009  261.410004  254.699997  258.269989  258.269989   \n",
       "7  2018-02-14  260.470001  269.880005  260.329987  266.000000  266.000000   \n",
       "8  2018-02-15  270.029999  280.500000  267.630005  280.269989  280.269989   \n",
       "9  2018-02-16  278.730011  281.959991  275.690002  278.519989  278.519989   \n",
       "\n",
       "     Volume  \n",
       "0  11896100  \n",
       "1  12595800  \n",
       "2   8981500  \n",
       "3   9306700  \n",
       "4  16906900  \n",
       "5   8534900  \n",
       "6   6855200  \n",
       "7  10972000  \n",
       "8  10759700  \n",
       "9   8312400  "
      ]
     },
     "execution_count": 3,
     "metadata": {},
     "output_type": "execute_result"
    }
   ],
   "source": [
    "df.head(10)"
   ]
  },
  {
   "cell_type": "markdown",
   "id": "8a85a6db",
   "metadata": {
    "papermill": {
     "duration": 0.006384,
     "end_time": "2023-04-09T19:11:32.813587",
     "exception": false,
     "start_time": "2023-04-09T19:11:32.807203",
     "status": "completed"
    },
    "tags": []
   },
   "source": []
  },
  {
   "cell_type": "markdown",
   "id": "21a4b8f9",
   "metadata": {
    "papermill": {
     "duration": 0.006247,
     "end_time": "2023-04-09T19:11:32.826592",
     "exception": false,
     "start_time": "2023-04-09T19:11:32.820345",
     "status": "completed"
    },
    "tags": []
   },
   "source": [
    "# Data Preparation"
   ]
  },
  {
   "cell_type": "code",
   "execution_count": 4,
   "id": "af41c429",
   "metadata": {
    "execution": {
     "iopub.execute_input": "2023-04-09T19:11:32.842910Z",
     "iopub.status.busy": "2023-04-09T19:11:32.841761Z",
     "iopub.status.idle": "2023-04-09T19:11:32.852359Z",
     "shell.execute_reply": "2023-04-09T19:11:32.851194Z"
    },
    "papermill": {
     "duration": 0.02112,
     "end_time": "2023-04-09T19:11:32.854662",
     "exception": false,
     "start_time": "2023-04-09T19:11:32.833542",
     "status": "completed"
    },
    "tags": []
   },
   "outputs": [
    {
     "data": {
      "text/plain": [
       "Date         0\n",
       "Open         0\n",
       "High         0\n",
       "Low          0\n",
       "Close        0\n",
       "Adj Close    0\n",
       "Volume       0\n",
       "dtype: int64"
      ]
     },
     "execution_count": 4,
     "metadata": {},
     "output_type": "execute_result"
    }
   ],
   "source": [
    "df.isnull().sum()"
   ]
  },
  {
   "cell_type": "code",
   "execution_count": 5,
   "id": "de0634cc",
   "metadata": {
    "execution": {
     "iopub.execute_input": "2023-04-09T19:11:32.871147Z",
     "iopub.status.busy": "2023-04-09T19:11:32.870311Z",
     "iopub.status.idle": "2023-04-09T19:11:32.877832Z",
     "shell.execute_reply": "2023-04-09T19:11:32.876492Z"
    },
    "papermill": {
     "duration": 0.018886,
     "end_time": "2023-04-09T19:11:32.880272",
     "exception": false,
     "start_time": "2023-04-09T19:11:32.861386",
     "status": "completed"
    },
    "tags": []
   },
   "outputs": [
    {
     "data": {
      "text/plain": [
       "(1009, 7)"
      ]
     },
     "execution_count": 5,
     "metadata": {},
     "output_type": "execute_result"
    }
   ],
   "source": [
    "df.shape"
   ]
  },
  {
   "cell_type": "code",
   "execution_count": 6,
   "id": "344a3d7a",
   "metadata": {
    "execution": {
     "iopub.execute_input": "2023-04-09T19:11:32.896890Z",
     "iopub.status.busy": "2023-04-09T19:11:32.896170Z",
     "iopub.status.idle": "2023-04-09T19:11:32.923735Z",
     "shell.execute_reply": "2023-04-09T19:11:32.922034Z"
    },
    "papermill": {
     "duration": 0.03935,
     "end_time": "2023-04-09T19:11:32.926501",
     "exception": false,
     "start_time": "2023-04-09T19:11:32.887151",
     "status": "completed"
    },
    "tags": []
   },
   "outputs": [
    {
     "name": "stdout",
     "output_type": "stream",
     "text": [
      "<class 'pandas.core.frame.DataFrame'>\n",
      "RangeIndex: 1009 entries, 0 to 1008\n",
      "Data columns (total 7 columns):\n",
      " #   Column     Non-Null Count  Dtype  \n",
      "---  ------     --------------  -----  \n",
      " 0   Date       1009 non-null   object \n",
      " 1   Open       1009 non-null   float64\n",
      " 2   High       1009 non-null   float64\n",
      " 3   Low        1009 non-null   float64\n",
      " 4   Close      1009 non-null   float64\n",
      " 5   Adj Close  1009 non-null   float64\n",
      " 6   Volume     1009 non-null   int64  \n",
      "dtypes: float64(5), int64(1), object(1)\n",
      "memory usage: 55.3+ KB\n"
     ]
    }
   ],
   "source": [
    "df.info()"
   ]
  },
  {
   "cell_type": "code",
   "execution_count": 7,
   "id": "16ddc0a3",
   "metadata": {
    "execution": {
     "iopub.execute_input": "2023-04-09T19:11:32.942954Z",
     "iopub.status.busy": "2023-04-09T19:11:32.941928Z",
     "iopub.status.idle": "2023-04-09T19:11:32.977430Z",
     "shell.execute_reply": "2023-04-09T19:11:32.976085Z"
    },
    "papermill": {
     "duration": 0.046388,
     "end_time": "2023-04-09T19:11:32.979943",
     "exception": false,
     "start_time": "2023-04-09T19:11:32.933555",
     "status": "completed"
    },
    "tags": []
   },
   "outputs": [
    {
     "data": {
      "text/html": [
       "<div>\n",
       "<style scoped>\n",
       "    .dataframe tbody tr th:only-of-type {\n",
       "        vertical-align: middle;\n",
       "    }\n",
       "\n",
       "    .dataframe tbody tr th {\n",
       "        vertical-align: top;\n",
       "    }\n",
       "\n",
       "    .dataframe thead th {\n",
       "        text-align: right;\n",
       "    }\n",
       "</style>\n",
       "<table border=\"1\" class=\"dataframe\">\n",
       "  <thead>\n",
       "    <tr style=\"text-align: right;\">\n",
       "      <th></th>\n",
       "      <th>count</th>\n",
       "      <th>mean</th>\n",
       "      <th>std</th>\n",
       "      <th>min</th>\n",
       "      <th>25%</th>\n",
       "      <th>50%</th>\n",
       "      <th>75%</th>\n",
       "      <th>max</th>\n",
       "    </tr>\n",
       "  </thead>\n",
       "  <tbody>\n",
       "    <tr>\n",
       "      <th>Open</th>\n",
       "      <td>1009.0</td>\n",
       "      <td>4.190597e+02</td>\n",
       "      <td>1.085375e+02</td>\n",
       "      <td>2.339200e+02</td>\n",
       "      <td>3.314900e+02</td>\n",
       "      <td>3.777700e+02</td>\n",
       "      <td>5.091300e+02</td>\n",
       "      <td>6.923500e+02</td>\n",
       "    </tr>\n",
       "    <tr>\n",
       "      <th>High</th>\n",
       "      <td>1009.0</td>\n",
       "      <td>4.253207e+02</td>\n",
       "      <td>1.092630e+02</td>\n",
       "      <td>2.506500e+02</td>\n",
       "      <td>3.363000e+02</td>\n",
       "      <td>3.830100e+02</td>\n",
       "      <td>5.156300e+02</td>\n",
       "      <td>7.009900e+02</td>\n",
       "    </tr>\n",
       "    <tr>\n",
       "      <th>Low</th>\n",
       "      <td>1009.0</td>\n",
       "      <td>4.123740e+02</td>\n",
       "      <td>1.075559e+02</td>\n",
       "      <td>2.312300e+02</td>\n",
       "      <td>3.260000e+02</td>\n",
       "      <td>3.708800e+02</td>\n",
       "      <td>5.025300e+02</td>\n",
       "      <td>6.860900e+02</td>\n",
       "    </tr>\n",
       "    <tr>\n",
       "      <th>Close</th>\n",
       "      <td>1009.0</td>\n",
       "      <td>4.190007e+02</td>\n",
       "      <td>1.082900e+02</td>\n",
       "      <td>2.338800e+02</td>\n",
       "      <td>3.316200e+02</td>\n",
       "      <td>3.786700e+02</td>\n",
       "      <td>5.090800e+02</td>\n",
       "      <td>6.916900e+02</td>\n",
       "    </tr>\n",
       "    <tr>\n",
       "      <th>Adj Close</th>\n",
       "      <td>1009.0</td>\n",
       "      <td>4.190007e+02</td>\n",
       "      <td>1.082900e+02</td>\n",
       "      <td>2.338800e+02</td>\n",
       "      <td>3.316200e+02</td>\n",
       "      <td>3.786700e+02</td>\n",
       "      <td>5.090800e+02</td>\n",
       "      <td>6.916900e+02</td>\n",
       "    </tr>\n",
       "    <tr>\n",
       "      <th>Volume</th>\n",
       "      <td>1009.0</td>\n",
       "      <td>7.570685e+06</td>\n",
       "      <td>5.465535e+06</td>\n",
       "      <td>1.144000e+06</td>\n",
       "      <td>4.091900e+06</td>\n",
       "      <td>5.934500e+06</td>\n",
       "      <td>9.322400e+06</td>\n",
       "      <td>5.890430e+07</td>\n",
       "    </tr>\n",
       "  </tbody>\n",
       "</table>\n",
       "</div>"
      ],
      "text/plain": [
       "            count          mean           std           min           25%  \\\n",
       "Open       1009.0  4.190597e+02  1.085375e+02  2.339200e+02  3.314900e+02   \n",
       "High       1009.0  4.253207e+02  1.092630e+02  2.506500e+02  3.363000e+02   \n",
       "Low        1009.0  4.123740e+02  1.075559e+02  2.312300e+02  3.260000e+02   \n",
       "Close      1009.0  4.190007e+02  1.082900e+02  2.338800e+02  3.316200e+02   \n",
       "Adj Close  1009.0  4.190007e+02  1.082900e+02  2.338800e+02  3.316200e+02   \n",
       "Volume     1009.0  7.570685e+06  5.465535e+06  1.144000e+06  4.091900e+06   \n",
       "\n",
       "                    50%           75%           max  \n",
       "Open       3.777700e+02  5.091300e+02  6.923500e+02  \n",
       "High       3.830100e+02  5.156300e+02  7.009900e+02  \n",
       "Low        3.708800e+02  5.025300e+02  6.860900e+02  \n",
       "Close      3.786700e+02  5.090800e+02  6.916900e+02  \n",
       "Adj Close  3.786700e+02  5.090800e+02  6.916900e+02  \n",
       "Volume     5.934500e+06  9.322400e+06  5.890430e+07  "
      ]
     },
     "execution_count": 7,
     "metadata": {},
     "output_type": "execute_result"
    }
   ],
   "source": [
    "df.describe().T"
   ]
  },
  {
   "cell_type": "code",
   "execution_count": 8,
   "id": "abf54402",
   "metadata": {
    "execution": {
     "iopub.execute_input": "2023-04-09T19:11:32.997873Z",
     "iopub.status.busy": "2023-04-09T19:11:32.996778Z",
     "iopub.status.idle": "2023-04-09T19:11:33.005603Z",
     "shell.execute_reply": "2023-04-09T19:11:33.004523Z"
    },
    "papermill": {
     "duration": 0.019985,
     "end_time": "2023-04-09T19:11:33.008184",
     "exception": false,
     "start_time": "2023-04-09T19:11:32.988199",
     "status": "completed"
    },
    "tags": []
   },
   "outputs": [],
   "source": [
    "train, test = train_test_split(df, test_size = 0.2)"
   ]
  },
  {
   "cell_type": "code",
   "execution_count": 9,
   "id": "14419f96",
   "metadata": {
    "execution": {
     "iopub.execute_input": "2023-04-09T19:11:33.024369Z",
     "iopub.status.busy": "2023-04-09T19:11:33.023950Z",
     "iopub.status.idle": "2023-04-09T19:11:33.029343Z",
     "shell.execute_reply": "2023-04-09T19:11:33.028071Z"
    },
    "papermill": {
     "duration": 0.016499,
     "end_time": "2023-04-09T19:11:33.031933",
     "exception": false,
     "start_time": "2023-04-09T19:11:33.015434",
     "status": "completed"
    },
    "tags": []
   },
   "outputs": [],
   "source": [
    "test_pred = test.copy()"
   ]
  },
  {
   "cell_type": "code",
   "execution_count": 10,
   "id": "96f1727a",
   "metadata": {
    "execution": {
     "iopub.execute_input": "2023-04-09T19:11:33.048093Z",
     "iopub.status.busy": "2023-04-09T19:11:33.047705Z",
     "iopub.status.idle": "2023-04-09T19:11:33.062952Z",
     "shell.execute_reply": "2023-04-09T19:11:33.062025Z"
    },
    "papermill": {
     "duration": 0.025935,
     "end_time": "2023-04-09T19:11:33.065151",
     "exception": false,
     "start_time": "2023-04-09T19:11:33.039216",
     "status": "completed"
    },
    "tags": []
   },
   "outputs": [
    {
     "data": {
      "text/html": [
       "<div>\n",
       "<style scoped>\n",
       "    .dataframe tbody tr th:only-of-type {\n",
       "        vertical-align: middle;\n",
       "    }\n",
       "\n",
       "    .dataframe tbody tr th {\n",
       "        vertical-align: top;\n",
       "    }\n",
       "\n",
       "    .dataframe thead th {\n",
       "        text-align: right;\n",
       "    }\n",
       "</style>\n",
       "<table border=\"1\" class=\"dataframe\">\n",
       "  <thead>\n",
       "    <tr style=\"text-align: right;\">\n",
       "      <th></th>\n",
       "      <th>Date</th>\n",
       "      <th>Open</th>\n",
       "      <th>High</th>\n",
       "      <th>Low</th>\n",
       "      <th>Close</th>\n",
       "      <th>Adj Close</th>\n",
       "      <th>Volume</th>\n",
       "    </tr>\n",
       "  </thead>\n",
       "  <tbody>\n",
       "    <tr>\n",
       "      <th>48</th>\n",
       "      <td>2018-04-16</td>\n",
       "      <td>315.989990</td>\n",
       "      <td>316.100006</td>\n",
       "      <td>304.000000</td>\n",
       "      <td>307.779999</td>\n",
       "      <td>307.779999</td>\n",
       "      <td>20307900</td>\n",
       "    </tr>\n",
       "    <tr>\n",
       "      <th>725</th>\n",
       "      <td>2020-12-21</td>\n",
       "      <td>530.049988</td>\n",
       "      <td>532.619995</td>\n",
       "      <td>521.150024</td>\n",
       "      <td>528.909973</td>\n",
       "      <td>528.909973</td>\n",
       "      <td>3894000</td>\n",
       "    </tr>\n",
       "    <tr>\n",
       "      <th>182</th>\n",
       "      <td>2018-10-24</td>\n",
       "      <td>332.279999</td>\n",
       "      <td>333.000000</td>\n",
       "      <td>300.730011</td>\n",
       "      <td>301.829987</td>\n",
       "      <td>301.829987</td>\n",
       "      <td>19039300</td>\n",
       "    </tr>\n",
       "    <tr>\n",
       "      <th>363</th>\n",
       "      <td>2019-07-17</td>\n",
       "      <td>366.250000</td>\n",
       "      <td>366.500000</td>\n",
       "      <td>361.750000</td>\n",
       "      <td>362.440002</td>\n",
       "      <td>362.440002</td>\n",
       "      <td>13639500</td>\n",
       "    </tr>\n",
       "    <tr>\n",
       "      <th>15</th>\n",
       "      <td>2018-02-27</td>\n",
       "      <td>294.769989</td>\n",
       "      <td>297.359985</td>\n",
       "      <td>290.589996</td>\n",
       "      <td>290.609985</td>\n",
       "      <td>290.609985</td>\n",
       "      <td>9416500</td>\n",
       "    </tr>\n",
       "    <tr>\n",
       "      <th>101</th>\n",
       "      <td>2018-06-29</td>\n",
       "      <td>399.190002</td>\n",
       "      <td>401.329987</td>\n",
       "      <td>390.549988</td>\n",
       "      <td>391.429993</td>\n",
       "      <td>391.429993</td>\n",
       "      <td>9252500</td>\n",
       "    </tr>\n",
       "    <tr>\n",
       "      <th>216</th>\n",
       "      <td>2018-12-13</td>\n",
       "      <td>277.640015</td>\n",
       "      <td>279.320007</td>\n",
       "      <td>271.850006</td>\n",
       "      <td>276.019989</td>\n",
       "      <td>276.019989</td>\n",
       "      <td>8379300</td>\n",
       "    </tr>\n",
       "    <tr>\n",
       "      <th>598</th>\n",
       "      <td>2020-06-22</td>\n",
       "      <td>455.010010</td>\n",
       "      <td>468.589996</td>\n",
       "      <td>454.209991</td>\n",
       "      <td>468.040009</td>\n",
       "      <td>468.040009</td>\n",
       "      <td>6272100</td>\n",
       "    </tr>\n",
       "    <tr>\n",
       "      <th>354</th>\n",
       "      <td>2019-07-03</td>\n",
       "      <td>376.690002</td>\n",
       "      <td>381.989990</td>\n",
       "      <td>375.839996</td>\n",
       "      <td>381.720001</td>\n",
       "      <td>381.720001</td>\n",
       "      <td>3799000</td>\n",
       "    </tr>\n",
       "    <tr>\n",
       "      <th>989</th>\n",
       "      <td>2022-01-07</td>\n",
       "      <td>549.460022</td>\n",
       "      <td>553.429993</td>\n",
       "      <td>538.219971</td>\n",
       "      <td>541.059998</td>\n",
       "      <td>541.059998</td>\n",
       "      <td>3381700</td>\n",
       "    </tr>\n",
       "  </tbody>\n",
       "</table>\n",
       "</div>"
      ],
      "text/plain": [
       "           Date        Open        High         Low       Close   Adj Close  \\\n",
       "48   2018-04-16  315.989990  316.100006  304.000000  307.779999  307.779999   \n",
       "725  2020-12-21  530.049988  532.619995  521.150024  528.909973  528.909973   \n",
       "182  2018-10-24  332.279999  333.000000  300.730011  301.829987  301.829987   \n",
       "363  2019-07-17  366.250000  366.500000  361.750000  362.440002  362.440002   \n",
       "15   2018-02-27  294.769989  297.359985  290.589996  290.609985  290.609985   \n",
       "101  2018-06-29  399.190002  401.329987  390.549988  391.429993  391.429993   \n",
       "216  2018-12-13  277.640015  279.320007  271.850006  276.019989  276.019989   \n",
       "598  2020-06-22  455.010010  468.589996  454.209991  468.040009  468.040009   \n",
       "354  2019-07-03  376.690002  381.989990  375.839996  381.720001  381.720001   \n",
       "989  2022-01-07  549.460022  553.429993  538.219971  541.059998  541.059998   \n",
       "\n",
       "       Volume  \n",
       "48   20307900  \n",
       "725   3894000  \n",
       "182  19039300  \n",
       "363  13639500  \n",
       "15    9416500  \n",
       "101   9252500  \n",
       "216   8379300  \n",
       "598   6272100  \n",
       "354   3799000  \n",
       "989   3381700  "
      ]
     },
     "execution_count": 10,
     "metadata": {},
     "output_type": "execute_result"
    }
   ],
   "source": [
    "train.head(10)"
   ]
  },
  {
   "cell_type": "code",
   "execution_count": 11,
   "id": "d149d265",
   "metadata": {
    "execution": {
     "iopub.execute_input": "2023-04-09T19:11:33.083172Z",
     "iopub.status.busy": "2023-04-09T19:11:33.081536Z",
     "iopub.status.idle": "2023-04-09T19:11:33.099454Z",
     "shell.execute_reply": "2023-04-09T19:11:33.098117Z"
    },
    "papermill": {
     "duration": 0.029579,
     "end_time": "2023-04-09T19:11:33.102175",
     "exception": false,
     "start_time": "2023-04-09T19:11:33.072596",
     "status": "completed"
    },
    "tags": []
   },
   "outputs": [
    {
     "data": {
      "text/html": [
       "<div>\n",
       "<style scoped>\n",
       "    .dataframe tbody tr th:only-of-type {\n",
       "        vertical-align: middle;\n",
       "    }\n",
       "\n",
       "    .dataframe tbody tr th {\n",
       "        vertical-align: top;\n",
       "    }\n",
       "\n",
       "    .dataframe thead th {\n",
       "        text-align: right;\n",
       "    }\n",
       "</style>\n",
       "<table border=\"1\" class=\"dataframe\">\n",
       "  <thead>\n",
       "    <tr style=\"text-align: right;\">\n",
       "      <th></th>\n",
       "      <th>Date</th>\n",
       "      <th>Open</th>\n",
       "      <th>High</th>\n",
       "      <th>Low</th>\n",
       "      <th>Close</th>\n",
       "      <th>Adj Close</th>\n",
       "      <th>Volume</th>\n",
       "    </tr>\n",
       "  </thead>\n",
       "  <tbody>\n",
       "    <tr>\n",
       "      <th>16</th>\n",
       "      <td>2018-02-28</td>\n",
       "      <td>293.100006</td>\n",
       "      <td>295.750000</td>\n",
       "      <td>290.779999</td>\n",
       "      <td>291.380005</td>\n",
       "      <td>291.380005</td>\n",
       "      <td>7653500</td>\n",
       "    </tr>\n",
       "    <tr>\n",
       "      <th>745</th>\n",
       "      <td>2021-01-21</td>\n",
       "      <td>582.450012</td>\n",
       "      <td>588.750000</td>\n",
       "      <td>570.400024</td>\n",
       "      <td>579.840027</td>\n",
       "      <td>579.840027</td>\n",
       "      <td>11802100</td>\n",
       "    </tr>\n",
       "    <tr>\n",
       "      <th>402</th>\n",
       "      <td>2019-09-11</td>\n",
       "      <td>285.700012</td>\n",
       "      <td>292.649994</td>\n",
       "      <td>284.609985</td>\n",
       "      <td>288.269989</td>\n",
       "      <td>288.269989</td>\n",
       "      <td>7405900</td>\n",
       "    </tr>\n",
       "    <tr>\n",
       "      <th>513</th>\n",
       "      <td>2020-02-20</td>\n",
       "      <td>386.559998</td>\n",
       "      <td>389.700012</td>\n",
       "      <td>376.679993</td>\n",
       "      <td>386.000000</td>\n",
       "      <td>386.000000</td>\n",
       "      <td>4079400</td>\n",
       "    </tr>\n",
       "    <tr>\n",
       "      <th>742</th>\n",
       "      <td>2021-01-15</td>\n",
       "      <td>500.000000</td>\n",
       "      <td>506.320007</td>\n",
       "      <td>495.100006</td>\n",
       "      <td>497.980011</td>\n",
       "      <td>497.980011</td>\n",
       "      <td>5895800</td>\n",
       "    </tr>\n",
       "    <tr>\n",
       "      <th>56</th>\n",
       "      <td>2018-04-26</td>\n",
       "      <td>310.000000</td>\n",
       "      <td>316.630005</td>\n",
       "      <td>305.579987</td>\n",
       "      <td>313.980011</td>\n",
       "      <td>313.980011</td>\n",
       "      <td>9266700</td>\n",
       "    </tr>\n",
       "    <tr>\n",
       "      <th>805</th>\n",
       "      <td>2021-04-19</td>\n",
       "      <td>546.900024</td>\n",
       "      <td>556.440002</td>\n",
       "      <td>545.530029</td>\n",
       "      <td>554.440002</td>\n",
       "      <td>554.440002</td>\n",
       "      <td>4288700</td>\n",
       "    </tr>\n",
       "    <tr>\n",
       "      <th>783</th>\n",
       "      <td>2021-03-17</td>\n",
       "      <td>522.000000</td>\n",
       "      <td>528.369995</td>\n",
       "      <td>514.299988</td>\n",
       "      <td>524.440002</td>\n",
       "      <td>524.440002</td>\n",
       "      <td>2817400</td>\n",
       "    </tr>\n",
       "    <tr>\n",
       "      <th>693</th>\n",
       "      <td>2020-11-04</td>\n",
       "      <td>495.359985</td>\n",
       "      <td>507.730011</td>\n",
       "      <td>493.980011</td>\n",
       "      <td>496.950012</td>\n",
       "      <td>496.950012</td>\n",
       "      <td>5137300</td>\n",
       "    </tr>\n",
       "    <tr>\n",
       "      <th>399</th>\n",
       "      <td>2019-09-06</td>\n",
       "      <td>293.350006</td>\n",
       "      <td>293.350006</td>\n",
       "      <td>287.029999</td>\n",
       "      <td>290.170013</td>\n",
       "      <td>290.170013</td>\n",
       "      <td>5166600</td>\n",
       "    </tr>\n",
       "  </tbody>\n",
       "</table>\n",
       "</div>"
      ],
      "text/plain": [
       "           Date        Open        High         Low       Close   Adj Close  \\\n",
       "16   2018-02-28  293.100006  295.750000  290.779999  291.380005  291.380005   \n",
       "745  2021-01-21  582.450012  588.750000  570.400024  579.840027  579.840027   \n",
       "402  2019-09-11  285.700012  292.649994  284.609985  288.269989  288.269989   \n",
       "513  2020-02-20  386.559998  389.700012  376.679993  386.000000  386.000000   \n",
       "742  2021-01-15  500.000000  506.320007  495.100006  497.980011  497.980011   \n",
       "56   2018-04-26  310.000000  316.630005  305.579987  313.980011  313.980011   \n",
       "805  2021-04-19  546.900024  556.440002  545.530029  554.440002  554.440002   \n",
       "783  2021-03-17  522.000000  528.369995  514.299988  524.440002  524.440002   \n",
       "693  2020-11-04  495.359985  507.730011  493.980011  496.950012  496.950012   \n",
       "399  2019-09-06  293.350006  293.350006  287.029999  290.170013  290.170013   \n",
       "\n",
       "       Volume  \n",
       "16    7653500  \n",
       "745  11802100  \n",
       "402   7405900  \n",
       "513   4079400  \n",
       "742   5895800  \n",
       "56    9266700  \n",
       "805   4288700  \n",
       "783   2817400  \n",
       "693   5137300  \n",
       "399   5166600  "
      ]
     },
     "execution_count": 11,
     "metadata": {},
     "output_type": "execute_result"
    }
   ],
   "source": [
    "test.head(10)"
   ]
  },
  {
   "cell_type": "code",
   "execution_count": 12,
   "id": "5a370b03",
   "metadata": {
    "execution": {
     "iopub.execute_input": "2023-04-09T19:11:33.121055Z",
     "iopub.status.busy": "2023-04-09T19:11:33.119911Z",
     "iopub.status.idle": "2023-04-09T19:11:33.129042Z",
     "shell.execute_reply": "2023-04-09T19:11:33.127536Z"
    },
    "papermill": {
     "duration": 0.021672,
     "end_time": "2023-04-09T19:11:33.131853",
     "exception": false,
     "start_time": "2023-04-09T19:11:33.110181",
     "status": "completed"
    },
    "tags": []
   },
   "outputs": [],
   "source": [
    "x_train = train[['Open', 'High', 'Low', 'Adj Close', 'Volume']].values\n",
    "x_test = test[['Open', 'High', 'Low', 'Adj Close', 'Volume']].values"
   ]
  },
  {
   "cell_type": "code",
   "execution_count": 13,
   "id": "6cdf461d",
   "metadata": {
    "execution": {
     "iopub.execute_input": "2023-04-09T19:11:33.149215Z",
     "iopub.status.busy": "2023-04-09T19:11:33.148777Z",
     "iopub.status.idle": "2023-04-09T19:11:33.154494Z",
     "shell.execute_reply": "2023-04-09T19:11:33.153493Z"
    },
    "papermill": {
     "duration": 0.017067,
     "end_time": "2023-04-09T19:11:33.156735",
     "exception": false,
     "start_time": "2023-04-09T19:11:33.139668",
     "status": "completed"
    },
    "tags": []
   },
   "outputs": [],
   "source": [
    "y_train = train['Close'].values\n",
    "y_test = test['Close'].values"
   ]
  },
  {
   "cell_type": "markdown",
   "id": "e56940d4",
   "metadata": {
    "papermill": {
     "duration": 0.007328,
     "end_time": "2023-04-09T19:11:33.171891",
     "exception": false,
     "start_time": "2023-04-09T19:11:33.164563",
     "status": "completed"
    },
    "tags": []
   },
   "source": [
    "# Linear Regression"
   ]
  },
  {
   "cell_type": "code",
   "execution_count": 14,
   "id": "a544840c",
   "metadata": {
    "execution": {
     "iopub.execute_input": "2023-04-09T19:11:33.189430Z",
     "iopub.status.busy": "2023-04-09T19:11:33.188851Z",
     "iopub.status.idle": "2023-04-09T19:11:33.217897Z",
     "shell.execute_reply": "2023-04-09T19:11:33.216556Z"
    },
    "papermill": {
     "duration": 0.041158,
     "end_time": "2023-04-09T19:11:33.220785",
     "exception": false,
     "start_time": "2023-04-09T19:11:33.179627",
     "status": "completed"
    },
    "tags": []
   },
   "outputs": [
    {
     "data": {
      "text/plain": [
       "LinearRegression()"
      ]
     },
     "execution_count": 14,
     "metadata": {},
     "output_type": "execute_result"
    }
   ],
   "source": [
    "model_lnr = LinearRegression()\n",
    "model_lnr.fit(x_train, y_train)"
   ]
  },
  {
   "cell_type": "code",
   "execution_count": 15,
   "id": "2eec2f3a",
   "metadata": {
    "execution": {
     "iopub.execute_input": "2023-04-09T19:11:33.238626Z",
     "iopub.status.busy": "2023-04-09T19:11:33.238173Z",
     "iopub.status.idle": "2023-04-09T19:11:33.243682Z",
     "shell.execute_reply": "2023-04-09T19:11:33.242478Z"
    },
    "papermill": {
     "duration": 0.017265,
     "end_time": "2023-04-09T19:11:33.246002",
     "exception": false,
     "start_time": "2023-04-09T19:11:33.228737",
     "status": "completed"
    },
    "tags": []
   },
   "outputs": [],
   "source": [
    "y_pred = model_lnr.predict(x_test)"
   ]
  },
  {
   "cell_type": "code",
   "execution_count": 16,
   "id": "ff991855",
   "metadata": {
    "execution": {
     "iopub.execute_input": "2023-04-09T19:11:33.263621Z",
     "iopub.status.busy": "2023-04-09T19:11:33.262894Z",
     "iopub.status.idle": "2023-04-09T19:11:33.270128Z",
     "shell.execute_reply": "2023-04-09T19:11:33.268793Z"
    },
    "papermill": {
     "duration": 0.019033,
     "end_time": "2023-04-09T19:11:33.272807",
     "exception": false,
     "start_time": "2023-04-09T19:11:33.253774",
     "status": "completed"
    },
    "tags": []
   },
   "outputs": [
    {
     "name": "stdout",
     "output_type": "stream",
     "text": [
      "[254.259995]\n"
     ]
    }
   ],
   "source": [
    "result = model_lnr.predict([[262.000000, 267.899994, 250.029999, 254.259995, 11896100]])\n",
    "print(result)"
   ]
  },
  {
   "cell_type": "markdown",
   "id": "7ed9c32d",
   "metadata": {
    "papermill": {
     "duration": 0.007462,
     "end_time": "2023-04-09T19:11:33.288241",
     "exception": false,
     "start_time": "2023-04-09T19:11:33.280779",
     "status": "completed"
    },
    "tags": []
   },
   "source": [
    "# Model Evaluation"
   ]
  },
  {
   "cell_type": "code",
   "execution_count": 17,
   "id": "5f522e5c",
   "metadata": {
    "execution": {
     "iopub.execute_input": "2023-04-09T19:11:33.305530Z",
     "iopub.status.busy": "2023-04-09T19:11:33.305103Z",
     "iopub.status.idle": "2023-04-09T19:11:33.313569Z",
     "shell.execute_reply": "2023-04-09T19:11:33.312083Z"
    },
    "papermill": {
     "duration": 0.020082,
     "end_time": "2023-04-09T19:11:33.316075",
     "exception": false,
     "start_time": "2023-04-09T19:11:33.295993",
     "status": "completed"
    },
    "tags": []
   },
   "outputs": [
    {
     "name": "stdout",
     "output_type": "stream",
     "text": [
      "MSE 0.0\n",
      "RMSE 0.0\n",
      "R2 Score :  1.0\n"
     ]
    }
   ],
   "source": [
    "print(\"MSE\",round(mean_squared_error(y_test,y_pred), 4))\n",
    "print(\"RMSE\",round(np.sqrt(mean_squared_error(y_test,y_pred)), 4))\n",
    "print(\"R2 Score : \", r2_score(y_test,y_pred))"
   ]
  },
  {
   "cell_type": "code",
   "execution_count": 18,
   "id": "81d80fdf",
   "metadata": {
    "execution": {
     "iopub.execute_input": "2023-04-09T19:11:33.334467Z",
     "iopub.status.busy": "2023-04-09T19:11:33.333303Z",
     "iopub.status.idle": "2023-04-09T19:11:33.565802Z",
     "shell.execute_reply": "2023-04-09T19:11:33.564585Z"
    },
    "papermill": {
     "duration": 0.244287,
     "end_time": "2023-04-09T19:11:33.568311",
     "exception": false,
     "start_time": "2023-04-09T19:11:33.324024",
     "status": "completed"
    },
    "tags": []
   },
   "outputs": [
    {
     "data": {
      "text/plain": [
       "[<matplotlib.lines.Line2D at 0x7f66f05a0910>]"
      ]
     },
     "execution_count": 18,
     "metadata": {},
     "output_type": "execute_result"
    },
    {
     "data": {
      "image/png": "[encoded data removed]",
      "text/plain": [
       "<Figure size 640x480 with 1 Axes>"
      ]
     },
     "metadata": {},
     "output_type": "display_data"
    }
   ],
   "source": [
    "plt.scatter(y_pred, y_test)\n",
    "plt.plot(y_pred, y_test, color='red')"
   ]
  },
  {
   "cell_type": "code",
   "execution_count": 19,
   "id": "73e3ca4b",
   "metadata": {
    "execution": {
     "iopub.execute_input": "2023-04-09T19:11:33.587576Z",
     "iopub.status.busy": "2023-04-09T19:11:33.586717Z",
     "iopub.status.idle": "2023-04-09T19:11:33.608590Z",
     "shell.execute_reply": "2023-04-09T19:11:33.607112Z"
    },
    "papermill": {
     "duration": 0.034718,
     "end_time": "2023-04-09T19:11:33.611558",
     "exception": false,
     "start_time": "2023-04-09T19:11:33.576840",
     "status": "completed"
    },
    "tags": []
   },
   "outputs": [
    {
     "data": {
      "text/html": [
       "<div>\n",
       "<style scoped>\n",
       "    .dataframe tbody tr th:only-of-type {\n",
       "        vertical-align: middle;\n",
       "    }\n",
       "\n",
       "    .dataframe tbody tr th {\n",
       "        vertical-align: top;\n",
       "    }\n",
       "\n",
       "    .dataframe thead th {\n",
       "        text-align: right;\n",
       "    }\n",
       "</style>\n",
       "<table border=\"1\" class=\"dataframe\">\n",
       "  <thead>\n",
       "    <tr style=\"text-align: right;\">\n",
       "      <th></th>\n",
       "      <th>Date</th>\n",
       "      <th>Open</th>\n",
       "      <th>High</th>\n",
       "      <th>Low</th>\n",
       "      <th>Close</th>\n",
       "      <th>Adj Close</th>\n",
       "      <th>Volume</th>\n",
       "      <th>Close_Prediction</th>\n",
       "    </tr>\n",
       "  </thead>\n",
       "  <tbody>\n",
       "    <tr>\n",
       "      <th>16</th>\n",
       "      <td>2018-02-28</td>\n",
       "      <td>293.100006</td>\n",
       "      <td>295.750000</td>\n",
       "      <td>290.779999</td>\n",
       "      <td>291.380005</td>\n",
       "      <td>291.380005</td>\n",
       "      <td>7653500</td>\n",
       "      <td>291.380005</td>\n",
       "    </tr>\n",
       "    <tr>\n",
       "      <th>745</th>\n",
       "      <td>2021-01-21</td>\n",
       "      <td>582.450012</td>\n",
       "      <td>588.750000</td>\n",
       "      <td>570.400024</td>\n",
       "      <td>579.840027</td>\n",
       "      <td>579.840027</td>\n",
       "      <td>11802100</td>\n",
       "      <td>579.840027</td>\n",
       "    </tr>\n",
       "    <tr>\n",
       "      <th>402</th>\n",
       "      <td>2019-09-11</td>\n",
       "      <td>285.700012</td>\n",
       "      <td>292.649994</td>\n",
       "      <td>284.609985</td>\n",
       "      <td>288.269989</td>\n",
       "      <td>288.269989</td>\n",
       "      <td>7405900</td>\n",
       "      <td>288.269989</td>\n",
       "    </tr>\n",
       "    <tr>\n",
       "      <th>513</th>\n",
       "      <td>2020-02-20</td>\n",
       "      <td>386.559998</td>\n",
       "      <td>389.700012</td>\n",
       "      <td>376.679993</td>\n",
       "      <td>386.000000</td>\n",
       "      <td>386.000000</td>\n",
       "      <td>4079400</td>\n",
       "      <td>386.000000</td>\n",
       "    </tr>\n",
       "    <tr>\n",
       "      <th>742</th>\n",
       "      <td>2021-01-15</td>\n",
       "      <td>500.000000</td>\n",
       "      <td>506.320007</td>\n",
       "      <td>495.100006</td>\n",
       "      <td>497.980011</td>\n",
       "      <td>497.980011</td>\n",
       "      <td>5895800</td>\n",
       "      <td>497.980011</td>\n",
       "    </tr>\n",
       "    <tr>\n",
       "      <th>...</th>\n",
       "      <td>...</td>\n",
       "      <td>...</td>\n",
       "      <td>...</td>\n",
       "      <td>...</td>\n",
       "      <td>...</td>\n",
       "      <td>...</td>\n",
       "      <td>...</td>\n",
       "      <td>...</td>\n",
       "    </tr>\n",
       "    <tr>\n",
       "      <th>798</th>\n",
       "      <td>2021-04-08</td>\n",
       "      <td>551.130005</td>\n",
       "      <td>556.900024</td>\n",
       "      <td>547.570007</td>\n",
       "      <td>554.580017</td>\n",
       "      <td>554.580017</td>\n",
       "      <td>4309800</td>\n",
       "      <td>554.580017</td>\n",
       "    </tr>\n",
       "    <tr>\n",
       "      <th>936</th>\n",
       "      <td>2021-10-22</td>\n",
       "      <td>651.809998</td>\n",
       "      <td>665.460022</td>\n",
       "      <td>651.809998</td>\n",
       "      <td>664.780029</td>\n",
       "      <td>664.780029</td>\n",
       "      <td>6186000</td>\n",
       "      <td>664.780029</td>\n",
       "    </tr>\n",
       "    <tr>\n",
       "      <th>624</th>\n",
       "      <td>2020-07-29</td>\n",
       "      <td>492.250000</td>\n",
       "      <td>494.920013</td>\n",
       "      <td>484.130005</td>\n",
       "      <td>484.480011</td>\n",
       "      <td>484.480011</td>\n",
       "      <td>6611800</td>\n",
       "      <td>484.480011</td>\n",
       "    </tr>\n",
       "    <tr>\n",
       "      <th>364</th>\n",
       "      <td>2019-07-18</td>\n",
       "      <td>323.760010</td>\n",
       "      <td>329.850006</td>\n",
       "      <td>320.299988</td>\n",
       "      <td>325.209991</td>\n",
       "      <td>325.209991</td>\n",
       "      <td>31287100</td>\n",
       "      <td>325.209991</td>\n",
       "    </tr>\n",
       "    <tr>\n",
       "      <th>930</th>\n",
       "      <td>2021-10-14</td>\n",
       "      <td>632.229980</td>\n",
       "      <td>636.880005</td>\n",
       "      <td>626.789978</td>\n",
       "      <td>633.799988</td>\n",
       "      <td>633.799988</td>\n",
       "      <td>2671700</td>\n",
       "      <td>633.799988</td>\n",
       "    </tr>\n",
       "  </tbody>\n",
       "</table>\n",
       "<p>202 rows × 8 columns</p>\n",
       "</div>"
      ],
      "text/plain": [
       "           Date        Open        High         Low       Close   Adj Close  \\\n",
       "16   2018-02-28  293.100006  295.750000  290.779999  291.380005  291.380005   \n",
       "745  2021-01-21  582.450012  588.750000  570.400024  579.840027  579.840027   \n",
       "402  2019-09-11  285.700012  292.649994  284.609985  288.269989  288.269989   \n",
       "513  2020-02-20  386.559998  389.700012  376.679993  386.000000  386.000000   \n",
       "742  2021-01-15  500.000000  506.320007  495.100006  497.980011  497.980011   \n",
       "..          ...         ...         ...         ...         ...         ...   \n",
       "798  2021-04-08  551.130005  556.900024  547.570007  554.580017  554.580017   \n",
       "936  2021-10-22  651.809998  665.460022  651.809998  664.780029  664.780029   \n",
       "624  2020-07-29  492.250000  494.920013  484.130005  484.480011  484.480011   \n",
       "364  2019-07-18  323.760010  329.850006  320.299988  325.209991  325.209991   \n",
       "930  2021-10-14  632.229980  636.880005  626.789978  633.799988  633.799988   \n",
       "\n",
       "       Volume  Close_Prediction  \n",
       "16    7653500        291.380005  \n",
       "745  11802100        579.840027  \n",
       "402   7405900        288.269989  \n",
       "513   4079400        386.000000  \n",
       "742   5895800        497.980011  \n",
       "..        ...               ...  \n",
       "798   4309800        554.580017  \n",
       "936   6186000        664.780029  \n",
       "624   6611800        484.480011  \n",
       "364  31287100        325.209991  \n",
       "930   2671700        633.799988  \n",
       "\n",
       "[202 rows x 8 columns]"
      ]
     },
     "execution_count": 19,
     "metadata": {},
     "output_type": "execute_result"
    }
   ],
   "source": [
    "test_pred['Close_Prediction'] = y_pred\n",
    "test_pred"
   ]
  },
  {
   "cell_type": "code",
   "execution_count": 20,
   "id": "2254e1e5",
   "metadata": {
    "execution": {
     "iopub.execute_input": "2023-04-09T19:11:33.631468Z",
     "iopub.status.busy": "2023-04-09T19:11:33.631014Z",
     "iopub.status.idle": "2023-04-09T19:11:33.655553Z",
     "shell.execute_reply": "2023-04-09T19:11:33.654384Z"
    },
    "papermill": {
     "duration": 0.037357,
     "end_time": "2023-04-09T19:11:33.658075",
     "exception": false,
     "start_time": "2023-04-09T19:11:33.620718",
     "status": "completed"
    },
    "tags": []
   },
   "outputs": [
    {
     "data": {
      "text/html": [
       "<div>\n",
       "<style scoped>\n",
       "    .dataframe tbody tr th:only-of-type {\n",
       "        vertical-align: middle;\n",
       "    }\n",
       "\n",
       "    .dataframe tbody tr th {\n",
       "        vertical-align: top;\n",
       "    }\n",
       "\n",
       "    .dataframe thead th {\n",
       "        text-align: right;\n",
       "    }\n",
       "</style>\n",
       "<table border=\"1\" class=\"dataframe\">\n",
       "  <thead>\n",
       "    <tr style=\"text-align: right;\">\n",
       "      <th></th>\n",
       "      <th>count</th>\n",
       "      <th>mean</th>\n",
       "      <th>std</th>\n",
       "      <th>min</th>\n",
       "      <th>25%</th>\n",
       "      <th>50%</th>\n",
       "      <th>75%</th>\n",
       "      <th>max</th>\n",
       "    </tr>\n",
       "  </thead>\n",
       "  <tbody>\n",
       "    <tr>\n",
       "      <th>Close</th>\n",
       "      <td>202.0</td>\n",
       "      <td>421.59495</td>\n",
       "      <td>106.528161</td>\n",
       "      <td>258.269989</td>\n",
       "      <td>338.35749</td>\n",
       "      <td>374.925003</td>\n",
       "      <td>510.309998</td>\n",
       "      <td>679.330017</td>\n",
       "    </tr>\n",
       "    <tr>\n",
       "      <th>Close_Prediction</th>\n",
       "      <td>202.0</td>\n",
       "      <td>421.59495</td>\n",
       "      <td>106.528161</td>\n",
       "      <td>258.269989</td>\n",
       "      <td>338.35749</td>\n",
       "      <td>374.925003</td>\n",
       "      <td>510.309998</td>\n",
       "      <td>679.330017</td>\n",
       "    </tr>\n",
       "  </tbody>\n",
       "</table>\n",
       "</div>"
      ],
      "text/plain": [
       "                  count       mean         std         min        25%  \\\n",
       "Close             202.0  421.59495  106.528161  258.269989  338.35749   \n",
       "Close_Prediction  202.0  421.59495  106.528161  258.269989  338.35749   \n",
       "\n",
       "                         50%         75%         max  \n",
       "Close             374.925003  510.309998  679.330017  \n",
       "Close_Prediction  374.925003  510.309998  679.330017  "
      ]
     },
     "execution_count": 20,
     "metadata": {},
     "output_type": "execute_result"
    }
   ],
   "source": [
    "test_pred[['Close', 'Close_Prediction']].describe().T"
   ]
  }
 ],
 "metadata": {
  "kernelspec": {
   "display_name": "Python 3",
   "language": "python",
   "name": "python3"
  },
  "language_info": {
   "codemirror_mode": {
    "name": "ipython",
    "version": 3
   },
   "file_extension": ".py",
   "mimetype": "text/x-python",
   "name": "python",
   "nbconvert_exporter": "python",
   "pygments_lexer": "ipython3",
   "version": "3.7.12"
  },
  "papermill": {
   "default_parameters": {},
   "duration": 13.162426,
   "end_time": "2023-04-09T19:11:34.388767",
   "environment_variables": {},
   "exception": null,
   "input_path": "__notebook__.ipynb",
   "output_path": "__notebook__.ipynb",
   "parameters": {},
   "start_time": "2023-04-09T19:11:21.226341",
   "version": "2.4.0"
  }
 },
 "nbformat": 4,
 "nbformat_minor": 5
}
